{
 "cells": [
  {
   "cell_type": "code",
   "execution_count": 3,
   "metadata": {},
   "outputs": [],
   "source": [
    "import numpy as np\n",
    "import pandas as pd\n",
    "from filterpy.kalman import KalmanFilter\n",
    "from filterpy.common import Q_discrete_white_noise\n"
   ]
  },
  {
   "cell_type": "code",
   "execution_count": null,
   "metadata": {},
   "outputs": [],
   "source": [
    "class MyKalmanFilter(object):\n",
    "    def __init__(self):\n",
    "        self.kf = KalmanFilter(dim_x=2, dim_z=1)\n",
    "        \n",
    "    \n"
   ]
  },
  {
   "cell_type": "code",
   "execution_count": 104,
   "metadata": {},
   "outputs": [
    {
     "data": {
      "text/plain": [
       "'\\nsort 7 states for sort\\n'"
      ]
     },
     "execution_count": 104,
     "metadata": {},
     "output_type": "execute_result"
    }
   ],
   "source": [
    "my_filter = KalmanFilter(dim_x=3, dim_z=1) # how many state, dim_z = input of the system\n",
    "\n",
    "'''\n",
    "sort 7 states for sort\n",
    "'''"
   ]
  },
  {
   "cell_type": "code",
   "execution_count": 1,
   "metadata": {},
   "outputs": [
    {
     "ename": "NameError",
     "evalue": "name 'np' is not defined",
     "output_type": "error",
     "traceback": [
      "\u001b[0;31m---------------------------------------------------------------------------\u001b[0m",
      "\u001b[0;31mNameError\u001b[0m                                 Traceback (most recent call last)",
      "Cell \u001b[0;32mIn[1], line 1\u001b[0m\n\u001b[0;32m----> 1\u001b[0m my_filter\u001b[38;5;241m.\u001b[39mx \u001b[38;5;241m=\u001b[39m \u001b[43mnp\u001b[49m\u001b[38;5;241m.\u001b[39marray([[\u001b[38;5;241m0.\u001b[39m], [\u001b[38;5;241m0.\u001b[39m], [\u001b[38;5;241m0.\u001b[39m]])        \u001b[38;5;66;03m# initialize state (location and velocity)\u001b[39;00m\n\u001b[1;32m      2\u001b[0m my_filter\u001b[38;5;241m.\u001b[39mF \u001b[38;5;241m=\u001b[39m np\u001b[38;5;241m.\u001b[39marray([[\u001b[38;5;241m1.\u001b[39m, \u001b[38;5;241m1.\u001b[39m], [\u001b[38;5;241m0.\u001b[39m,\u001b[38;5;241m1.\u001b[39m]]) \u001b[38;5;66;03m# state transition matrix , not random , physical regulation\u001b[39;00m\n\u001b[1;32m      3\u001b[0m my_filter\u001b[38;5;241m.\u001b[39mH \u001b[38;5;241m=\u001b[39m np\u001b[38;5;241m.\u001b[39marray([[\u001b[38;5;241m1.\u001b[39m, \u001b[38;5;241m0.\u001b[39m]])          \u001b[38;5;66;03m# measurement function\u001b[39;00m\n",
      "\u001b[0;31mNameError\u001b[0m: name 'np' is not defined"
     ]
    }
   ],
   "source": [
    "my_filter.x = np.array([[0.], [0.], [0.]])        # initialize state (location and velocity)\n",
    "my_filter.F = np.array([[1., 1.], [0.,1.]]) # state transition matrix , not random , physical regulation\n",
    "my_filter.H = np.array([[1., 0.]])          # measurement function\n",
    "my_filter.P *= 1000.                        # covariance matrix\n",
    "my_filter.R = 5                             # state uncertainty\n",
    "my_filter.Q = Q_discrete_white_noise(dim=2, dt=0.1, var=0.1) # process uncertainty\n"
   ]
  },
  {
   "cell_type": "code",
   "execution_count": 106,
   "metadata": {},
   "outputs": [
    {
     "ename": "ValueError",
     "evalue": "shapes (2,2) and (3,1) not aligned: 2 (dim 1) != 3 (dim 0)",
     "output_type": "error",
     "traceback": [
      "\u001b[0;31m---------------------------------------------------------------------------\u001b[0m",
      "\u001b[0;31mValueError\u001b[0m                                Traceback (most recent call last)",
      "Cell \u001b[0;32mIn[106], line 2\u001b[0m\n\u001b[1;32m      1\u001b[0m \u001b[38;5;66;03m# while True:\u001b[39;00m\n\u001b[0;32m----> 2\u001b[0m \u001b[43mmy_filter\u001b[49m\u001b[38;5;241;43m.\u001b[39;49m\u001b[43mpredict\u001b[49m\u001b[43m(\u001b[49m\u001b[43m)\u001b[49m\n\u001b[1;32m      3\u001b[0m my_filter\u001b[38;5;241m.\u001b[39mupdate(\u001b[38;5;241m0.5\u001b[39m)\n\u001b[1;32m      4\u001b[0m x \u001b[38;5;241m=\u001b[39m my_filter\u001b[38;5;241m.\u001b[39mx\n",
      "File \u001b[0;32m~/.local/lib/python3.10/site-packages/filterpy/kalman/kalman_filter.py:481\u001b[0m, in \u001b[0;36mKalmanFilter.predict\u001b[0;34m(self, u, B, F, Q)\u001b[0m\n\u001b[1;32m    479\u001b[0m     \u001b[38;5;28mself\u001b[39m\u001b[38;5;241m.\u001b[39mx \u001b[38;5;241m=\u001b[39m dot(F, \u001b[38;5;28mself\u001b[39m\u001b[38;5;241m.\u001b[39mx) \u001b[38;5;241m+\u001b[39m dot(B, u)\n\u001b[1;32m    480\u001b[0m \u001b[38;5;28;01melse\u001b[39;00m:\n\u001b[0;32m--> 481\u001b[0m     \u001b[38;5;28mself\u001b[39m\u001b[38;5;241m.\u001b[39mx \u001b[38;5;241m=\u001b[39m \u001b[43mdot\u001b[49m\u001b[43m(\u001b[49m\u001b[43mF\u001b[49m\u001b[43m,\u001b[49m\u001b[43m \u001b[49m\u001b[38;5;28;43mself\u001b[39;49m\u001b[38;5;241;43m.\u001b[39;49m\u001b[43mx\u001b[49m\u001b[43m)\u001b[49m\n\u001b[1;32m    483\u001b[0m \u001b[38;5;66;03m# P = FPF' + Q\u001b[39;00m\n\u001b[1;32m    484\u001b[0m \u001b[38;5;28mself\u001b[39m\u001b[38;5;241m.\u001b[39mP \u001b[38;5;241m=\u001b[39m \u001b[38;5;28mself\u001b[39m\u001b[38;5;241m.\u001b[39m_alpha_sq \u001b[38;5;241m*\u001b[39m dot(dot(F, \u001b[38;5;28mself\u001b[39m\u001b[38;5;241m.\u001b[39mP), F\u001b[38;5;241m.\u001b[39mT) \u001b[38;5;241m+\u001b[39m Q\n",
      "\u001b[0;31mValueError\u001b[0m: shapes (2,2) and (3,1) not aligned: 2 (dim 1) != 3 (dim 0)"
     ]
    }
   ],
   "source": [
    "# while True:\n",
    "my_filter.predict()\n",
    "my_filter.update(0.5)\n",
    "x = my_filter.x\n",
    "print(x)"
   ]
  }
 ],
 "metadata": {
  "kernelspec": {
   "display_name": "Python 3",
   "language": "python",
   "name": "python3"
  },
  "language_info": {
   "codemirror_mode": {
    "name": "ipython",
    "version": 3
   },
   "file_extension": ".py",
   "mimetype": "text/x-python",
   "name": "python",
   "nbconvert_exporter": "python",
   "pygments_lexer": "ipython3",
   "version": "3.10.6"
  }
 },
 "nbformat": 4,
 "nbformat_minor": 2
}
